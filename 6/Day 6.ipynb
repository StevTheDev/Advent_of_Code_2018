{
 "cells": [
  {
   "cell_type": "markdown",
   "metadata": {},
   "source": [
    "# Day 6: Chronal Coordinates \n",
    "\n",
    "The device on your wrist beeps several times, and once again you feel like you're falling.\"Situation critical,\" the device announces. \"Destination indeterminate. Chronal interference detected. Please specify new target coordinates.\"\n",
    "\n",
    "The device then produces a list of coordinates (your puzzle input). Are they places it thinks are safe or dangerous? It recommends you check manual page 729. The Elves did not give you a manual.\n",
    "\n",
    "## If they're dangerous, maybe you can minimize the danger by finding the coordinate that gives the **largest distance** from the other points.\n",
    "\n",
    "Using only the *Manhattan distance*, **determine the area around each coordinate by counting the number of integer X,Y locations that are closest to that coordinate** (and aren't tied in distance to any other coordinate).\n",
    "\n",
    "Your goal is to find the size of the largest area that isn't infinite. For example, consider the following list of coordinates:\n",
    "\n",
    "    1, 1\n",
    "    1, 6\n",
    "    8, 3\n",
    "    3, 4\n",
    "    5, 5\n",
    "    8, 9\n",
    "\n",
    "If we name these coordinates A through F, we can draw them on a grid, putting 0,0 at the top left:\n",
    "\n",
    "    ..........\n",
    "    .A........\n",
    "    ..........\n",
    "    ........C.\n",
    "    ...D......\n",
    "    .....E....\n",
    "    .B........\n",
    "    ..........\n",
    "    ..........\n",
    "    ........F.\n",
    "\n",
    "This view is partial - the actual grid extends infinitely in all directions. Using the Manhattan distance, each location's closest coordinate can be determined, shown here in lowercase:\n",
    "\n",
    "    aaaaa.cccc\n",
    "    aAaaa.cccc\n",
    "    aaaddecccc\n",
    "    aadddeccCc\n",
    "    ..dDdeeccc\n",
    "    bb.deEeecc\n",
    "    bBb.eeee..\n",
    "    bbb.eeefff\n",
    "    bbb.eeffff\n",
    "    bbb.ffffFf\n",
    "\n",
    "Locations shown as . are equally far from two or more coordinates, and so they don't count as being closest to any.\n",
    "\n",
    "In this example, the areas of coordinates A, B, C, and F are infinite - while not shown here, their areas extend forever outside the visible grid. However, the areas of coordinates D and E are finite: D is closest to 9 locations, and E is closest to 17 (both including the coordinate's location itself). Therefore, in this example, the size of the largest area is 17.\n",
    "\n",
    "What is the size of the largest area that isn't infinite?\n"
   ]
  },
  {
   "cell_type": "code",
   "execution_count": 1,
   "metadata": {},
   "outputs": [
    {
     "name": "stdout",
     "output_type": "stream",
     "text": [
      "No pattern matches found on line 50: \n"
     ]
    }
   ],
   "source": [
    "import re, math\n",
    "input_data = open('input.txt').read().split('\\n')\n",
    "suggested_locations = {}\n",
    "for i,line in enumerate(input_data):\n",
    "    try:\n",
    "        x,y = re.findall(r'-?\\d+',line)\n",
    "        point = (int(x),int(y))\n",
    "        tag = chr(i+65) if i < 26 else chr(i+71)\n",
    "        suggested_locations[point] = {}\n",
    "        suggested_locations[point]['Tag'] = tag\n",
    "    except ValueError:\n",
    "        print(f'No pattern matches found on line {i}: {line}')"
   ]
  },
  {
   "cell_type": "code",
   "execution_count": 2,
   "metadata": {},
   "outputs": [],
   "source": [
    "def plot_point_field(point_field):\n",
    "    plot = {}\n",
    "    \n",
    "    x = [point[0] for point in point_field]\n",
    "    min_x, max_x = min(x), max(x)\n",
    "    y = [point[1] for point in point_field]\n",
    "    min_y, max_y = min(y), max(y)\n",
    "    \n",
    "    for y in range(min_y, max_y+1):\n",
    "        for x in range(min_x, max_x+1):\n",
    "            plot[(x,y)] = {}\n",
    "            if (x,y) in point_field:\n",
    "                plot[(x,y)]['Tag'] = point_field[(x,y)]['Tag']\n",
    "            else:\n",
    "                tag = '.'\n",
    "                plot[(x,y)]['Tag'] = tag\n",
    "    return plot"
   ]
  },
  {
   "cell_type": "code",
   "execution_count": 3,
   "metadata": {},
   "outputs": [],
   "source": [
    "def get_closest_point_tag(point,target_points):\n",
    "    x,y = point\n",
    "    closest_point = '.'\n",
    "    min_distance = math.inf\n",
    "    \n",
    "    if (x,y) in target_points:\n",
    "        return target_points[point]['Tag']\n",
    "    \n",
    "    for point in target_points:\n",
    "        distance = abs(point[0] - x) + abs(point[1] - y)\n",
    "        if distance == min_distance:\n",
    "            closest_point = '!'\n",
    "        elif distance < min_distance:\n",
    "            closest_point = target_points[point]['Tag']\n",
    "            min_distance = distance\n",
    "    return closest_point"
   ]
  },
  {
   "cell_type": "code",
   "execution_count": 4,
   "metadata": {
    "scrolled": true
   },
   "outputs": [
    {
     "name": "stdout",
     "output_type": "stream",
     "text": [
      "Location a largest area 5035\n"
     ]
    }
   ],
   "source": [
    "plot = plot_point_field(suggested_locations)\n",
    "for point in plot:\n",
    "    plot[point]['Tag'] = get_closest_point_tag(point,suggested_locations)\n",
    "    \n",
    "x = [point[0] for point in plot]\n",
    "min_x, max_x = min(x), max(x)\n",
    "y = [point[1] for point in plot]\n",
    "min_y, max_y = min(y), max(y)\n",
    "\n",
    "possible_tags = set([suggested_locations[point]['Tag'] for point in suggested_locations])\n",
    "counts = { tag : 0 for tag in possible_tags }\n",
    "\n",
    "for point in plot:\n",
    "    if plot[point]['Tag'] in possible_tags:\n",
    "        if point[0] == min_x or point[0] == max_x or point[1] == min_y or point[1] == max_y:\n",
    "            possible_tags.remove(plot[point]['Tag'])\n",
    "            counts[plot[point]['Tag']] = - math.inf\n",
    "        \n",
    "        counts[plot[point]['Tag']] += 1\n",
    "\n",
    "max_c = ('',0)\n",
    "for loc in counts:\n",
    "    if counts[loc] > max_c[1]:\n",
    "        max_c = (loc,counts[loc])\n",
    "        \n",
    "print(f'Location {max_c[0]} largest area {max_c[1]}')"
   ]
  },
  {
   "cell_type": "markdown",
   "metadata": {},
   "source": [
    "#### --- Part Two ---\n",
    "\n",
    "On the other hand, if the coordinates are safe, maybe the best you can do is try to find a region **near as many coordinates as possible.**\n",
    "\n",
    "For example, suppose you want the sum of the Manhattan distance to all of the coordinates to be less than 32. For each location, add up the distances to all of the given coordinates; if the total of those distances is less than 32, that location is within the desired region. Using the same coordinates as above, the resulting region looks like this:\n",
    "\n",
    "    ..........\n",
    "    .A........\n",
    "    ..........\n",
    "    ...###..C.\n",
    "    ..#D###...\n",
    "    ..###E#...\n",
    "    .B.###....\n",
    "    ..........\n",
    "    ..........\n",
    "    ........F.\n",
    "\n",
    "In particular, consider the highlighted location 4,3 located at the top middle of the region. Its calculation is as follows, where abs() is the absolute value function:\n",
    "\n",
    "    Distance to coordinate A: abs(4-1) + abs(3-1) =  5\n",
    "    Distance to coordinate B: abs(4-1) + abs(3-6) =  6\n",
    "    Distance to coordinate C: abs(4-8) + abs(3-3) =  4\n",
    "    Distance to coordinate D: abs(4-3) + abs(3-4) =  2\n",
    "    Distance to coordinate E: abs(4-5) + abs(3-5) =  3\n",
    "    Distance to coordinate F: abs(4-8) + abs(3-9) = 10\n",
    "    Total distance: 5 + 6 + 4 + 2 + 3 + 10 = 30\n",
    "\n",
    "Because the total distance to all coordinates (30) is less than 32, the location is within the region.\n",
    "\n",
    "This region, which also includes coordinates D and E, has a total size of 16.\n",
    "\n",
    "Your actual region will need to be much larger than this example, though, instead including all locations with a total distance of less than 10000.\n",
    "\n",
    "What is the size of the region containing all locations which have a total distance to all given coordinates of less than 10000?\n"
   ]
  },
  {
   "cell_type": "code",
   "execution_count": 6,
   "metadata": {},
   "outputs": [],
   "source": [
    "for point in plot:\n",
    "    distance_sum = 0\n",
    "    for loc in suggested_locations:\n",
    "        distance_sum += abs(loc[0] - point[0]) + abs(loc[1] - point[1])\n",
    "    plot[point]['Distance Sum'] = distance_sum"
   ]
  },
  {
   "cell_type": "code",
   "execution_count": 7,
   "metadata": {},
   "outputs": [
    {
     "data": {
      "text/plain": [
       "35294"
      ]
     },
     "execution_count": 7,
     "metadata": {},
     "output_type": "execute_result"
    }
   ],
   "source": [
    "count = 0\n",
    "for point in plot:\n",
    "    if plot[point]['Distance Sum'] < 10000:\n",
    "        count += 1\n",
    "count"
   ]
  }
 ],
 "metadata": {
  "kernelspec": {
   "display_name": "Python 3",
   "language": "python",
   "name": "python3"
  },
  "language_info": {
   "codemirror_mode": {
    "name": "ipython",
    "version": 3
   },
   "file_extension": ".py",
   "mimetype": "text/x-python",
   "name": "python",
   "nbconvert_exporter": "python",
   "pygments_lexer": "ipython3",
   "version": "3.7.2"
  }
 },
 "nbformat": 4,
 "nbformat_minor": 2
}
