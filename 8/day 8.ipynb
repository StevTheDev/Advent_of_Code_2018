{
 "cells": [
  {
   "cell_type": "markdown",
   "metadata": {},
   "source": [
    "The tree is made up of nodes; a single, outermost node forms the tree's root, and it contains all other nodes in the tree (or contains nodes that contain nodes, and so on).\n",
    "\n",
    "Specifically, a node consists of:\n",
    "\n",
    "    A header, which is always exactly two numbers:\n",
    "        The quantity of child nodes.\n",
    "        The quantity of metadata entries.\n",
    "    Zero or more child nodes (as specified in the header).\n",
    "    One or more metadata entries (as specified in the header).\n",
    "\n",
    "Each child node is itself a node that has its own header, child nodes, and metadata. For example:\n",
    "\n",
    "    2 3 0 3 10 11 12 1 1 0 1 99 2 1 1 2\n",
    "    A----------------------------------\n",
    "        B----------- C-----------\n",
    "                         D-----\n",
    "\n",
    "In this example, each node of the tree is also marked with an underline starting with a letter for easier identification. In it, there are four nodes:\n",
    "\n",
    "    A, which has 2 child nodes (B, C) and 3 metadata entries (1, 1, 2).\n",
    "    B, which has 0 child nodes and 3 metadata entries (10, 11, 12).\n",
    "    C, which has 1 child node (D) and 1 metadata entry (2).\n",
    "    D, which has 0 child nodes and 1 metadata entry (99).\n",
    "\n",
    "The first check done on the license file is to simply add up all of the metadata entries. In this example, that sum is 1+1+2+10+11+12+2+99=138."
   ]
  },
  {
   "cell_type": "code",
   "execution_count": 19,
   "metadata": {
    "collapsed": true
   },
   "outputs": [
    {
     "data": {
      "text/plain": [
       "['2',\n",
       " '3',\n",
       " '0',\n",
       " '3',\n",
       " '10',\n",
       " '11',\n",
       " '12',\n",
       " '1',\n",
       " '1',\n",
       " '0',\n",
       " '1',\n",
       " '99',\n",
       " '2',\n",
       " '1',\n",
       " '1',\n",
       " '2']"
      ]
     },
     "execution_count": 19,
     "metadata": {},
     "output_type": "execute_result"
    }
   ],
   "source": [
    "input_data = open('short.txt').read().split(' ')\n",
    "input_data"
   ]
  },
  {
   "cell_type": "code",
   "execution_count": null,
   "metadata": {},
   "outputs": [],
   "source": [
    "def build_tree(input):\n",
    "    input_index = 0\n",
    "    \n",
    "    def build_node(input):\n",
    "        num_children = input_data.pop(0)\n",
    "        num_metadata = input_data.pop(0)\n",
    "    \n",
    "        children = build_node()\n",
    "        \n",
    "        metadata = [input_data.pop(0) for _ in range(num_metadata)]\n",
    "        \n",
    "\n",
    "    return build_node(input)"
   ]
  },
  {
   "cell_type": "code",
   "execution_count": null,
   "metadata": {},
   "outputs": [],
   "source": [
    "def \n",
    "\n",
    "while len(input_data):\n",
    "    num_children = input_data.pop(0)\n",
    "    num_metadata = input_data.pop(0)\n",
    "    \n",
    "    \n",
    "    if num_children > 0:\n",
    "        children = build_nodes(input_data)\n",
    "    \n",
    "    else:\n",
    "        metadata = input_data[:num_metadata]\n",
    "        del input_data[:num_metadata]\n",
    "    "
   ]
  },
  {
   "cell_type": "code",
   "execution_count": 24,
   "metadata": {},
   "outputs": [
    {
     "data": {
      "text/plain": [
       "'10'"
      ]
     },
     "execution_count": 24,
     "metadata": {},
     "output_type": "execute_result"
    }
   ],
   "source": [
    "input_data.pop()"
   ]
  },
  {
   "cell_type": "code",
   "execution_count": 25,
   "metadata": {},
   "outputs": [
    {
     "name": "stdout",
     "output_type": "stream",
     "text": [
      "[13]\n",
      "~~~~~~~~~~\n",
      "[10, 11, 12]\n"
     ]
    }
   ],
   "source": []
  },
  {
   "cell_type": "code",
   "execution_count": null,
   "metadata": {},
   "outputs": [],
   "source": []
  }
 ],
 "metadata": {
  "kernelspec": {
   "display_name": "Python 3",
   "language": "python",
   "name": "python3"
  },
  "language_info": {
   "codemirror_mode": {
    "name": "ipython",
    "version": 3
   },
   "file_extension": ".py",
   "mimetype": "text/x-python",
   "name": "python",
   "nbconvert_exporter": "python",
   "pygments_lexer": "ipython3",
   "version": "3.7.2"
  }
 },
 "nbformat": 4,
 "nbformat_minor": 2
}
