{
 "cells": [
  {
   "cell_type": "markdown",
   "metadata": {},
   "source": [
    "# Advent of Code Day 7 Solution\n",
    "Solution by Steven Fitzpatrick\n",
    "## Read Input"
   ]
  },
  {
   "cell_type": "code",
   "execution_count": 1,
   "metadata": {},
   "outputs": [
    {
     "name": "stdout",
     "output_type": "stream",
     "text": [
      "No pattern matches on line 101: \"\"\n"
     ]
    }
   ],
   "source": [
    "import re\n",
    "\n",
    "problem_input = []\n",
    "for i, line in enumerate(open('input.txt').read().split('\\n')):\n",
    "    data = re.findall(r' \\w ',line)\n",
    "    try:\n",
    "        # data[1] contains a step; data[0] contains the step's dependency\n",
    "        problem_input.append((data[1][1:2],data[0][1:2]))\n",
    "    except IndexError:\n",
    "        print(f'No pattern matches on line {i}: \"{line}\"')"
   ]
  },
  {
   "cell_type": "markdown",
   "metadata": {},
   "source": [
    "## Part 1A\n",
    "Determine step dependencies from input"
   ]
  },
  {
   "cell_type": "code",
   "execution_count": 2,
   "metadata": {},
   "outputs": [
    {
     "name": "stdout",
     "output_type": "stream",
     "text": [
      "Step: Depends on\n"
     ]
    },
    {
     "data": {
      "text/plain": [
       "{'G': [],\n",
       " 'L': [],\n",
       " 'J': [],\n",
       " 'N': [],\n",
       " 'D': ['L'],\n",
       " 'K': ['J'],\n",
       " 'F': ['D'],\n",
       " 'M': ['T'],\n",
       " 'Y': ['K'],\n",
       " 'T': ['G', 'K'],\n",
       " 'P': ['D', 'L'],\n",
       " 'X': ['K', 'N'],\n",
       " 'U': ['I', 'Y'],\n",
       " 'Q': ['K', 'M', 'N'],\n",
       " 'R': ['H', 'V', 'X'],\n",
       " 'I': ['J', 'P', 'T', 'X'],\n",
       " 'H': ['D', 'N', 'P', 'Y'],\n",
       " 'A': ['N', 'O', 'P', 'S', 'T', 'Z'],\n",
       " 'V': ['J', 'L', 'M', 'N', 'T', 'X', 'Y'],\n",
       " 'B': ['A', 'C', 'N', 'O', 'P', 'S', 'W'],\n",
       " 'E': ['F', 'M', 'Q', 'R', 'T', 'U', 'V'],\n",
       " 'O': ['D', 'E', 'K', 'N', 'P', 'R', 'V', 'Y'],\n",
       " 'Z': ['E', 'H', 'I', 'N', 'O', 'Q', 'R', 'V'],\n",
       " 'S': ['E', 'L', 'M', 'N', 'O', 'Q', 'U', 'V', 'Z'],\n",
       " 'W': ['E', 'K', 'N', 'O', 'R', 'S', 'U', 'V', 'X', 'Y', 'Z'],\n",
       " 'C': ['A', 'D', 'E', 'H', 'I', 'R', 'S', 'U', 'W', 'X', 'Z']}"
      ]
     },
     "execution_count": 2,
     "metadata": {},
     "output_type": "execute_result"
    }
   ],
   "source": [
    "step_dependencies = {}\n",
    "for step, dependency in problem_input:\n",
    "    if step not in step_dependencies:\n",
    "        step_dependencies[step] = set()\n",
    "\n",
    "    if dependency not in step_dependencies:\n",
    "        # Catches steps which do not appear first in input\n",
    "        step_dependencies[dependency] = set()\n",
    "\n",
    "    step_dependencies[step].add(dependency)\n",
    "\n",
    "# Sort step_dependencies by number of dependencies\n",
    "_ = {}\n",
    "for k in sorted(step_dependencies, key=lambda k: len(step_dependencies[k])):\n",
    "    _[k] = sorted(step_dependencies[k])\n",
    "    \n",
    "step_dependencies = _\n",
    "\n",
    "print('Step: Depends on')\n",
    "step_dependencies"
   ]
  },
  {
   "cell_type": "markdown",
   "metadata": {},
   "source": [
    "## Part 1B\n",
    "Determine step completion order"
   ]
  },
  {
   "cell_type": "code",
   "execution_count": 3,
   "metadata": {},
   "outputs": [
    {
     "name": "stdout",
     "output_type": "stream",
     "text": [
      "Step completion order:\n",
      "GJKLDFNPTMQXIYHUVREOZSAWCB\n"
     ]
    }
   ],
   "source": [
    "completed_steps = []\n",
    "\n",
    "while len(completed_steps) < len(step_dependencies):\n",
    "    \n",
    "    available_steps = []\n",
    "    \n",
    "    for step in step_dependencies:\n",
    "        if set(step_dependencies[step]).issubset(set(completed_steps)):\n",
    "            available_steps.append(step)\n",
    "\n",
    "    for step in sorted(available_steps):\n",
    "        if step not in completed_steps:\n",
    "            completed_steps.append(step)\n",
    "            break\n",
    "\n",
    "print('Step completion order:')\n",
    "print(''.join(completed_steps))"
   ]
  },
  {
   "cell_type": "markdown",
   "metadata": {},
   "source": [
    "## Part 2A:\n",
    "Determine step time requirements"
   ]
  },
  {
   "cell_type": "code",
   "execution_count": 36,
   "metadata": {},
   "outputs": [],
   "source": [
    "# Using ord() to get the ASCII value of a character\n",
    "# such that (ord('A') - 64) = 1\n",
    "step_time_requirements = { step: 60 + (ord(step) - 64) for step in step_dependencies}"
   ]
  },
  {
   "cell_type": "code",
   "execution_count": 37,
   "metadata": {},
   "outputs": [],
   "source": [
    "num_workers = 5\n",
    "workers = { i : '' for i in range(num_workers) }"
   ]
  },
  {
   "cell_type": "code",
   "execution_count": 38,
   "metadata": {},
   "outputs": [
    {
     "name": "stdout",
     "output_type": "stream",
     "text": [
      "Step completion will take 967 seconds.\n",
      "New completion order:\n",
      "GJLNDKFPTXYMIHQUVREOZSAWCB\n"
     ]
    }
   ],
   "source": [
    "completed_steps = []\n",
    "active_steps = {}\n",
    "time = 0\n",
    "\n",
    "while len(completed_steps) < len(step_dependencies):\n",
    "    \n",
    "    # Find Current Available Steps\n",
    "    available_steps = []\n",
    "    for step in step_dependencies:\n",
    "        if not step in completed_steps and not step in active_steps:\n",
    "            if set(step_dependencies[step]).issubset(set(completed_steps)):\n",
    "                available_steps.append(step)\n",
    "    \n",
    "    # Assign Available Steps if possible\n",
    "    for step in sorted(available_steps):\n",
    "        for worker in workers:\n",
    "            if workers[worker] == '':\n",
    "                workers[worker] = step\n",
    "                active_steps[step] = step_time_requirements[step]\n",
    "                available_steps.remove(step)\n",
    "                break   \n",
    "\n",
    "    # Advance Time\n",
    "    time += 1\n",
    "                \n",
    "    # Update Active Steps\n",
    "    finished_steps = []\n",
    "    for step in active_steps:\n",
    "        active_steps[step] = active_steps[step] - 1\n",
    "        if active_steps[step] == 0:\n",
    "            completed_steps.append(step)\n",
    "            finished_steps.append(step)\n",
    "            \n",
    "            for worker in workers:\n",
    "                if workers[worker] == step:\n",
    "                    workers[worker] = ''\n",
    "                    \n",
    "    # Remove finished_steps from active_steps\n",
    "    for step in finished_steps:\n",
    "        del active_steps[step]\n",
    "\n",
    "print(f'Step completion will take {time} seconds.')\n",
    "print('New completion order:')\n",
    "print(''.join(completed_steps))"
   ]
  },
  {
   "cell_type": "code",
   "execution_count": null,
   "metadata": {},
   "outputs": [],
   "source": []
  }
 ],
 "metadata": {
  "kernelspec": {
   "display_name": "Python 3",
   "language": "python",
   "name": "python3"
  },
  "language_info": {
   "codemirror_mode": {
    "name": "ipython",
    "version": 3
   },
   "file_extension": ".py",
   "mimetype": "text/x-python",
   "name": "python",
   "nbconvert_exporter": "python",
   "pygments_lexer": "ipython3",
   "version": "3.7.2"
  }
 },
 "nbformat": 4,
 "nbformat_minor": 2
}
